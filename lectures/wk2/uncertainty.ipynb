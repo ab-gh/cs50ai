{
 "metadata": {
  "language_info": {
   "codemirror_mode": {
    "name": "ipython",
    "version": 3
   },
   "file_extension": ".py",
   "mimetype": "text/x-python",
   "name": "python",
   "nbconvert_exporter": "python",
   "pygments_lexer": "ipython3",
   "version": "3.9.5"
  },
  "orig_nbformat": 4,
  "kernelspec": {
   "name": "python3",
   "display_name": "Python 3.9.5 64-bit ('py39': conda)"
  },
  "interpreter": {
   "hash": "88b11310c3bf316e37a708cb8d0dbf79bba9a2d571f5024d0d39a9df939cbe1c"
  }
 },
 "nbformat": 4,
 "nbformat_minor": 2,
 "cells": [
  {
   "source": [
    "# week 2: uncertainty\n",
    "\n",
    "## proability\n",
    "\n",
    "- There are possible worlds $\\omega$\n",
    "- There is a set of all possible worlds $\\Omega$\n",
    "- It has a probability of being true $P(\\omega$`\n",
    "- The summation of all worlds must be one $\\sum_{\\omega\\in\\Omega}P(\\omega) = 1$"
   ],
   "cell_type": "markdown",
   "metadata": {}
  },
  {
   "source": [
    "\n",
    "## conditional probability\n",
    "\n",
    "- Probability of $a$ given $b$: $P(a|b)$\n",
    "- Probability that $a$ is true given that we know that $b$ is true\n",
    "$$\n",
    "P(a|b)=\\frac{P(a\\land b)}{P(b)}\n",
    "$$"
   ],
   "cell_type": "markdown",
   "metadata": {}
  },
  {
   "source": [
    "## independence\n",
    "\n",
    "**Dependence**\n",
    "- $P(a\\land b)=P(a)P(b|a)$\n",
    "\n",
    "**Independence**\n",
    "- $P(a\\land b)=P(a)P(b)$"
   ],
   "cell_type": "markdown",
   "metadata": {}
  },
  {
   "source": [
    "## bayes' rule\n",
    "$$\n",
    "P(a\\land b)=P(a)P(b|a)\n",
    "$$\n",
    "\n",
    "- $P(b)P(a|b)=P(a)P(b|a)$\n",
    "\n",
    "$$\n",
    "P(b|a)=\\frac{P(b)P(a|b)}{P(a)}\n",
    "$$\n",
    "\n",
    "- Given $C$ = cloud, and $R$ = rain\n",
    "$$\n",
    "P(C | rain)=\\frac{P(C, rain)}{P(rain)}=\\alpha P(C, rain)=\\alpha\\langle0.08,0.02\\rangle=\\langle0.8,0.2\\rangle\n",
    "$$\n",
    "\n",
    "|x|R=rain|r=!rain|\n",
    "|:--:|:--:|:--:|\n",
    "|C=cloud|0.08|0.32|\n",
    "|C=!cloud|0.02|0.58|"
   ],
   "cell_type": "markdown",
   "metadata": {}
  },
  {
   "source": [
    "## probability rules\n",
    "\n",
    "### negation\n",
    "- $P(!a)=1-P(a)$\n",
    "\n",
    "### or\n",
    "- $P(a\\lor b)=P(a)+P(b)-P(a\\land b)$\n",
    "\n",
    "### marginalisation\n",
    "- $P(a)=P(a, b)+P(a, !b)$\n",
    "- $P(X=x_i)=\\sum_jP(X=x_i, Y=y_j)$\n",
    "\n",
    "### conditioning\n",
    "- $P(a)=P(a|b)P(b)+P(a|!b)P(!b)$"
   ],
   "cell_type": "markdown",
   "metadata": {}
  },
  {
   "source": [
    "## bayesian network\n",
    "\n",
    "A data structure that represents the dependencies among random variables\n",
    "\n",
    "- directed graph\n",
    "- each node represents a random variable\n",
    "- arrow from X to Y means X is a parent of Y\n",
    "- each node has a probability distribution $P(X | \\text{Parents}(X))$\n",
    "\n",
    "```\n",
    "[Rain {none, light, heavy}] -> [Maintainance {yes, no}] -> [Train {on time, delayed}] -> [Appointment {attend, miss}]\n",
    "            |                                                       ^\n",
    "            --------------------------------------------------------|\n",
    "```\n",
    "### extracting joint probability\n",
    "\n",
    "- $P(\\text{light, no}) = P(\\text{light})P(\\text{no}|\\text{light})$\n",
    "- $P(\\text{light, no, delayed}) = P(\\text{light})P(\\text{no}|\\text{light})P(\\text{delayed}|\\text{light, no})$\n",
    "- $P(\\text{light, no, delayed, miss}) = P(\\text{light})\\cdot P(\\text{no}|\\text{light})\\cdot P(\\text{delayed}|\\text{light, no})\\cdot P(\\text{miss}|\\text{delayed})$\n",
    "\n",
    "### extracting new information\n",
    "\n",
    "Probabilistic inference\n",
    "- Query `X` to compute the distribution for\n",
    "- Evidence variables `E` that are obserbed variables for event `e`\n",
    "- Hidden variables `Y` that are non-evidence and non-query variables\n",
    "- Goal: $P(X|e)$"
   ],
   "cell_type": "markdown",
   "metadata": {}
  },
  {
   "source": [
    "### inference by enumeration\n",
    "\n",
    "**Goal: $P(\\text{Appointment}|\\text{light, no})$**\n",
    "\n",
    "*Train* is a hidden variable\n",
    "\n",
    "- $P(\\text{Appointment}|\\text{light, no}) = \\alpha P(\\text{Appointment, light, no})$\n",
    "- Use marginalisation to expand hidden variable *Train*\n",
    "- $= \\alpha[P(\\text{Appointment, light, no, on time})+P(\\text{Appointment, light, no, delayed})]$\n",
    "\n",
    "$$\n",
    "P(X|e)=\\alpha P(X, e)=\\alpha\\sum_yP(X, e, y)\n",
    "$$"
   ],
   "cell_type": "markdown",
   "metadata": {}
  },
  {
   "cell_type": "code",
   "execution_count": 1,
   "metadata": {},
   "outputs": [],
   "source": [
    "from pomegranate import *\n",
    "\n",
    "# Rain node has no parents\n",
    "rain = Node(DiscreteDistribution({\n",
    "    \"none\": 0.7,\n",
    "    \"light\": 0.2,\n",
    "    \"heavy\": 0.1\n",
    "}), name=\"rain\")\n",
    "\n",
    "# Track maintenance node is conditional on rain\n",
    "maintenance = Node(ConditionalProbabilityTable([\n",
    "    [\"none\", \"yes\", 0.4],\n",
    "    [\"none\", \"no\", 0.6],\n",
    "    [\"light\", \"yes\", 0.2],\n",
    "    [\"light\", \"no\", 0.8],\n",
    "    [\"heavy\", \"yes\", 0.1],\n",
    "    [\"heavy\", \"no\", 0.9]\n",
    "], [rain.distribution]), name=\"maintenance\")\n",
    "\n",
    "# Train node is conditional on rain and maintenance\n",
    "train = Node(ConditionalProbabilityTable([\n",
    "    [\"none\", \"yes\", \"on time\", 0.8],\n",
    "    [\"none\", \"yes\", \"delayed\", 0.2],\n",
    "    [\"none\", \"no\", \"on time\", 0.9],\n",
    "    [\"none\", \"no\", \"delayed\", 0.1],\n",
    "    [\"light\", \"yes\", \"on time\", 0.6],\n",
    "    [\"light\", \"yes\", \"delayed\", 0.4],\n",
    "    [\"light\", \"no\", \"on time\", 0.7],\n",
    "    [\"light\", \"no\", \"delayed\", 0.3],\n",
    "    [\"heavy\", \"yes\", \"on time\", 0.4],\n",
    "    [\"heavy\", \"yes\", \"delayed\", 0.6],\n",
    "    [\"heavy\", \"no\", \"on time\", 0.5],\n",
    "    [\"heavy\", \"no\", \"delayed\", 0.5],\n",
    "], [rain.distribution, maintenance.distribution]), name=\"train\")\n",
    "\n",
    "# Appointment node is conditional on train\n",
    "appointment = Node(ConditionalProbabilityTable([\n",
    "    [\"on time\", \"attend\", 0.9],\n",
    "    [\"on time\", \"miss\", 0.1],\n",
    "    [\"delayed\", \"attend\", 0.6],\n",
    "    [\"delayed\", \"miss\", 0.4]\n",
    "], [train.distribution]), name=\"appointment\")"
   ]
  },
  {
   "cell_type": "code",
   "execution_count": 2,
   "metadata": {},
   "outputs": [],
   "source": [
    "# Create a Bayesian Network and add states\n",
    "model = BayesianNetwork()\n",
    "model.add_states(rain, maintenance, train, appointment)\n",
    "\n",
    "# Add edges connecting nodes\n",
    "model.add_edge(rain, maintenance)\n",
    "model.add_edge(rain, train)\n",
    "model.add_edge(maintenance, train)\n",
    "model.add_edge(train, appointment)\n",
    "\n",
    "# Finalize model\n",
    "model.bake()"
   ]
  },
  {
   "cell_type": "code",
   "execution_count": 3,
   "metadata": {},
   "outputs": [
    {
     "output_type": "stream",
     "name": "stdout",
     "text": [
      "0.34019999999999995\n"
     ]
    }
   ],
   "source": [
    "# Calculate probability for a given observation\n",
    "probability = model.probability([[\"none\", \"no\", \"on time\", \"attend\"]])\n",
    "\n",
    "print(probability)"
   ]
  },
  {
   "cell_type": "code",
   "execution_count": 5,
   "metadata": {},
   "outputs": [
    {
     "output_type": "stream",
     "name": "stdout",
     "text": [
      "rain: heavy\nmaintenance\n    no: 0.8824\n    yes: 0.1176\ntrain: delayed\nappointment\n    attend: 0.6000\n    miss: 0.4000\n"
     ]
    }
   ],
   "source": [
    "# Calculate predictions based on the evidence that the train was delayed\n",
    "predictions = model.predict_proba({\n",
    "    \"rain\": \"heavy\",\n",
    "    \"train\": \"delayed\"\n",
    "})\n",
    "\n",
    "# Print predictions for each node\n",
    "for node, prediction in zip(model.states, predictions):\n",
    "    if isinstance(prediction, str):\n",
    "        print(f\"{node.name}: {prediction}\")\n",
    "    else:\n",
    "        print(f\"{node.name}\")\n",
    "        for value, probability in prediction.parameters[0].items():\n",
    "            print(f\"    {value}: {probability:.4f}\")"
   ]
  },
  {
   "source": [
    "## approximate inference: rejection sampling\n",
    "\n",
    "Take a sample of all of the variables in the Bayesian network using RNG\n",
    "- For *Rain*, *none* is sampled 70% of the time\n",
    "- For *Maintanance*, we then sample from the R=none row, and we choose *yes* 40% of the time\n",
    "- For *Train*, we again choose the first row, and sample *on time* 80% of the time\n",
    "- For *Appointment*, *attend* is chosen 90% of the time in this sample\n",
    "\n",
    "These samples are taken hundreds or thousands of times\n",
    "\n",
    "- Query: $P(\\text{Train = on time})$\n",
    "- 6 of the 8 samples have the train on time, so we get a 6/8 probability\n",
    "- For conditional, reject the samples that don't meet the conditional"
   ],
   "cell_type": "markdown",
   "metadata": {}
  },
  {
   "cell_type": "code",
   "execution_count": 9,
   "metadata": {},
   "outputs": [],
   "source": [
    "from collections import Counter\n",
    "import pomegranate\n",
    "\n",
    "def generate_sample():\n",
    "\n",
    "    # Mapping of random variable name to sample generated\n",
    "    sample = {}\n",
    "\n",
    "    # Mapping of distribution to sample generated\n",
    "    parents = {}\n",
    "\n",
    "    # Loop over all states, assuming topological order\n",
    "    for state in model.states:\n",
    "\n",
    "        # If we have a non-root node, sample conditional on parents\n",
    "        if isinstance(state.distribution, pomegranate.ConditionalProbabilityTable):\n",
    "            sample[state.name] = state.distribution.sample(parent_values=parents)\n",
    "\n",
    "        # Otherwise, just sample from the distribution alone\n",
    "        else:\n",
    "            sample[state.name] = state.distribution.sample()\n",
    "\n",
    "        # Keep track of the sampled value in the parents mapping\n",
    "        parents[state.distribution] = sample[state.name]\n",
    "\n",
    "    # Return generated sample\n",
    "    return sample"
   ]
  },
  {
   "cell_type": "code",
   "execution_count": 14,
   "metadata": {},
   "outputs": [
    {
     "output_type": "stream",
     "name": "stdout",
     "text": [
      "Counter({'attend': 1309, 'miss': 881})\n"
     ]
    }
   ],
   "source": [
    "# Rejection sampling\n",
    "# Compute distribution of Appointment given that train is delayed\n",
    "N = 10000\n",
    "data = []\n",
    "\n",
    "# Repeat sampling 10,000 times\n",
    "for i in range(N):\n",
    "\n",
    "    # Generate a sample based on the function that we defined earlier\n",
    "    sample = generate_sample()\n",
    "\n",
    "    # If, in this sample, the variable of Train has the value delayed, save the sample. Since we are interested interested in the probability distribution of Appointment given that the train is delayed, we discard the sampled where the train was on time.\n",
    "    if sample[\"train\"] == \"delayed\":\n",
    "        data.append(sample[\"appointment\"])\n",
    "\n",
    "# Count how many times each value of the variable appeared. We can later normalize by dividing the results by the total number of saved samples to get the approximate probabilities of the variable that add up to 1.\n",
    "print(Counter(data))"
   ]
  },
  {
   "source": [
    "## likelyhood weighting\n",
    "\n",
    "- Start by fixing the values for evidence variables\n",
    "- Sample non-evidence variables using conditional probabilities in the Bayesian Network\n",
    "- Weight each sample by its likelyhood: the probability of all of the evidence\n",
    "\n",
    "### sample\n",
    "\n",
    "- R = light\n",
    "- M = yes\n",
    "- \\[T = on time\\] FIXED\n",
    "- A = attend\n",
    "- weight: P(on time, light, yes) = 0.6"
   ],
   "cell_type": "markdown",
   "metadata": {}
  },
  {
   "source": [
    "## uncertainty over time\n",
    "\n",
    "- $X_t$: Weather at time $t$\n",
    "\n",
    "**Markov Assumption**: the assumption that the current state depends only on a finite fixed number of previous states\n",
    "\n",
    "**Markov Chain**: a sequence of random variables where the distribution of each variable follows the Markov assumption\n",
    "\n",
    "Assume: I can predict sun or rain today just using today's weather\n",
    "### trainsition model\n",
    "||$X_{t+1}=sun$|$X_{t+1}=rain$|\n",
    "|:--:|:--:|:--:|\n",
    "|$X_t=sun$|0.8|0.2|\n",
    "|$X_t=rain$|0.3|0.7|\n",
    "\n"
   ],
   "cell_type": "markdown",
   "metadata": {}
  },
  {
   "cell_type": "code",
   "execution_count": 16,
   "metadata": {},
   "outputs": [
    {
     "output_type": "stream",
     "name": "stdout",
     "text": [
      "['rain', 'sun', 'sun', 'sun', 'sun', 'rain', 'rain', 'rain', 'rain', 'sun', 'sun', 'sun', 'sun', 'rain', 'rain', 'rain', 'sun', 'sun', 'sun', 'rain', 'rain', 'sun', 'sun', 'sun', 'sun', 'sun', 'sun', 'sun', 'sun', 'sun', 'sun', 'rain', 'sun', 'sun', 'sun', 'sun', 'sun', 'sun', 'rain', 'sun', 'rain', 'rain', 'rain', 'rain', 'sun', 'sun', 'sun', 'rain', 'rain', 'rain']\n"
     ]
    }
   ],
   "source": [
    "# Define starting probabilities\n",
    "start = DiscreteDistribution({\n",
    "    \"sun\": 0.5,\n",
    "    \"rain\": 0.5\n",
    "})\n",
    "\n",
    "# Define transition model\n",
    "transitions = ConditionalProbabilityTable([\n",
    "    [\"sun\", \"sun\", 0.8],\n",
    "    [\"sun\", \"rain\", 0.2],\n",
    "    [\"rain\", \"sun\", 0.3],\n",
    "    [\"rain\", \"rain\", 0.7]\n",
    "], [start])\n",
    "\n",
    "# Create Markov chain\n",
    "m_model = MarkovChain([start, transitions])\n",
    "\n",
    "# Sample 50 states from chain\n",
    "print(m_model.sample(50))"
   ]
  },
  {
   "cell_type": "code",
   "execution_count": null,
   "metadata": {},
   "outputs": [],
   "source": []
  }
 ]
}